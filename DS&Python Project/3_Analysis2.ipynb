{
 "cells": [
  {
   "cell_type": "code",
   "execution_count": 52,
   "metadata": {},
   "outputs": [],
   "source": [
    "import numpy as np\n",
    "import pandas as pd\n",
    "import matplotlib.pyplot as plt\n",
    "import seaborn as sns\n",
    "import warnings\n",
    "warnings.filterwarnings(\"ignore\")\n",
    "pd.set_option('display.max_columns', 30)\n",
    "plt.style.use('ggplot')"
   ]
  },
  {
   "cell_type": "code",
   "execution_count": 53,
   "metadata": {},
   "outputs": [
    {
     "data": {
      "text/html": [
       "<div>\n",
       "<style scoped>\n",
       "    .dataframe tbody tr th:only-of-type {\n",
       "        vertical-align: middle;\n",
       "    }\n",
       "\n",
       "    .dataframe tbody tr th {\n",
       "        vertical-align: top;\n",
       "    }\n",
       "\n",
       "    .dataframe thead th {\n",
       "        text-align: right;\n",
       "    }\n",
       "</style>\n",
       "<table border=\"1\" class=\"dataframe\">\n",
       "  <thead>\n",
       "    <tr style=\"text-align: right;\">\n",
       "      <th></th>\n",
       "      <th>rank</th>\n",
       "      <th>Youtuber</th>\n",
       "      <th>subscribers</th>\n",
       "      <th>video views</th>\n",
       "      <th>category</th>\n",
       "      <th>Title</th>\n",
       "      <th>uploads</th>\n",
       "      <th>Country</th>\n",
       "      <th>Abbreviation</th>\n",
       "      <th>channel_type</th>\n",
       "      <th>video_views_rank</th>\n",
       "      <th>country_rank</th>\n",
       "      <th>channel_type_rank</th>\n",
       "      <th>video_views_for_the_last_30_days</th>\n",
       "      <th>lowest_monthly_earnings</th>\n",
       "      <th>highest_monthly_earnings</th>\n",
       "      <th>lowest_yearly_earnings</th>\n",
       "      <th>highest_yearly_earnings</th>\n",
       "      <th>subscribers_for_last_30_days</th>\n",
       "      <th>Gross tertiary education enrollment (%)</th>\n",
       "      <th>Population</th>\n",
       "      <th>Unemployment rate</th>\n",
       "      <th>Urban_population</th>\n",
       "      <th>Latitude</th>\n",
       "      <th>Longitude</th>\n",
       "      <th>Created_Date</th>\n",
       "    </tr>\n",
       "  </thead>\n",
       "  <tbody>\n",
       "    <tr>\n",
       "      <th>0</th>\n",
       "      <td>1.0</td>\n",
       "      <td>T-Series</td>\n",
       "      <td>245000000</td>\n",
       "      <td>228000000000</td>\n",
       "      <td>Music</td>\n",
       "      <td>T-Series</td>\n",
       "      <td>20082</td>\n",
       "      <td>India</td>\n",
       "      <td>IN</td>\n",
       "      <td>Music</td>\n",
       "      <td>1.0</td>\n",
       "      <td>1</td>\n",
       "      <td>1</td>\n",
       "      <td>2.258000e+09</td>\n",
       "      <td>564600</td>\n",
       "      <td>9000000</td>\n",
       "      <td>6800000</td>\n",
       "      <td>108400000</td>\n",
       "      <td>2000000.0</td>\n",
       "      <td>28.1</td>\n",
       "      <td>1366417754</td>\n",
       "      <td>5.36</td>\n",
       "      <td>471031528</td>\n",
       "      <td>20.593684</td>\n",
       "      <td>78.962880</td>\n",
       "      <td>2006-03-13</td>\n",
       "    </tr>\n",
       "    <tr>\n",
       "      <th>1</th>\n",
       "      <td>2.0</td>\n",
       "      <td>MrBeast</td>\n",
       "      <td>166000000</td>\n",
       "      <td>28368841870</td>\n",
       "      <td>Entertainment</td>\n",
       "      <td>MrBeast</td>\n",
       "      <td>741</td>\n",
       "      <td>United States</td>\n",
       "      <td>US</td>\n",
       "      <td>Entertainment</td>\n",
       "      <td>50.0</td>\n",
       "      <td>1</td>\n",
       "      <td>1</td>\n",
       "      <td>1.348000e+09</td>\n",
       "      <td>337000</td>\n",
       "      <td>5400000</td>\n",
       "      <td>4000000</td>\n",
       "      <td>64700000</td>\n",
       "      <td>8000000.0</td>\n",
       "      <td>88.2</td>\n",
       "      <td>328239523</td>\n",
       "      <td>14.70</td>\n",
       "      <td>270663028</td>\n",
       "      <td>37.090240</td>\n",
       "      <td>-95.712891</td>\n",
       "      <td>2012-02-20</td>\n",
       "    </tr>\n",
       "    <tr>\n",
       "      <th>2</th>\n",
       "      <td>3.0</td>\n",
       "      <td>Cocomelon - Nursery Rhymes</td>\n",
       "      <td>162000000</td>\n",
       "      <td>164000000000</td>\n",
       "      <td>Education</td>\n",
       "      <td>Cocomelon - Nursery Rhymes</td>\n",
       "      <td>966</td>\n",
       "      <td>United States</td>\n",
       "      <td>US</td>\n",
       "      <td>Education</td>\n",
       "      <td>2.0</td>\n",
       "      <td>2</td>\n",
       "      <td>1</td>\n",
       "      <td>1.975000e+09</td>\n",
       "      <td>493800</td>\n",
       "      <td>7900000</td>\n",
       "      <td>5900000</td>\n",
       "      <td>94800000</td>\n",
       "      <td>1000000.0</td>\n",
       "      <td>88.2</td>\n",
       "      <td>328239523</td>\n",
       "      <td>14.70</td>\n",
       "      <td>270663028</td>\n",
       "      <td>37.090240</td>\n",
       "      <td>-95.712891</td>\n",
       "      <td>2006-09-01</td>\n",
       "    </tr>\n",
       "    <tr>\n",
       "      <th>3</th>\n",
       "      <td>4.0</td>\n",
       "      <td>SET India</td>\n",
       "      <td>159000000</td>\n",
       "      <td>148000000000</td>\n",
       "      <td>Shows</td>\n",
       "      <td>SET India</td>\n",
       "      <td>116536</td>\n",
       "      <td>India</td>\n",
       "      <td>IN</td>\n",
       "      <td>Entertainment</td>\n",
       "      <td>3.0</td>\n",
       "      <td>2</td>\n",
       "      <td>2</td>\n",
       "      <td>1.824000e+09</td>\n",
       "      <td>455900</td>\n",
       "      <td>7300000</td>\n",
       "      <td>5500000</td>\n",
       "      <td>87500000</td>\n",
       "      <td>1000000.0</td>\n",
       "      <td>28.1</td>\n",
       "      <td>1366417754</td>\n",
       "      <td>5.36</td>\n",
       "      <td>471031528</td>\n",
       "      <td>20.593684</td>\n",
       "      <td>78.962880</td>\n",
       "      <td>2006-09-20</td>\n",
       "    </tr>\n",
       "    <tr>\n",
       "      <th>4</th>\n",
       "      <td>5.0</td>\n",
       "      <td>Kids Diana Show</td>\n",
       "      <td>112000000</td>\n",
       "      <td>93247040539</td>\n",
       "      <td>People &amp; Blogs</td>\n",
       "      <td>Kids Diana Show</td>\n",
       "      <td>1111</td>\n",
       "      <td>United States</td>\n",
       "      <td>US</td>\n",
       "      <td>Entertainment</td>\n",
       "      <td>5.0</td>\n",
       "      <td>3</td>\n",
       "      <td>3</td>\n",
       "      <td>7.316740e+08</td>\n",
       "      <td>182900</td>\n",
       "      <td>2900000</td>\n",
       "      <td>2200000</td>\n",
       "      <td>35100000</td>\n",
       "      <td>NaN</td>\n",
       "      <td>88.2</td>\n",
       "      <td>328239523</td>\n",
       "      <td>14.70</td>\n",
       "      <td>270663028</td>\n",
       "      <td>37.090240</td>\n",
       "      <td>-95.712891</td>\n",
       "      <td>2015-05-12</td>\n",
       "    </tr>\n",
       "  </tbody>\n",
       "</table>\n",
       "</div>"
      ],
      "text/plain": [
       "   rank                    Youtuber  subscribers   video views  \\\n",
       "0   1.0                    T-Series    245000000  228000000000   \n",
       "1   2.0                     MrBeast    166000000   28368841870   \n",
       "2   3.0  Cocomelon - Nursery Rhymes    162000000  164000000000   \n",
       "3   4.0                   SET India    159000000  148000000000   \n",
       "4   5.0             Kids Diana Show    112000000   93247040539   \n",
       "\n",
       "         category                       Title  uploads        Country  \\\n",
       "0           Music                    T-Series    20082          India   \n",
       "1   Entertainment                     MrBeast      741  United States   \n",
       "2       Education  Cocomelon - Nursery Rhymes      966  United States   \n",
       "3           Shows                   SET India   116536          India   \n",
       "4  People & Blogs             Kids Diana Show     1111  United States   \n",
       "\n",
       "  Abbreviation   channel_type  video_views_rank  country_rank  \\\n",
       "0           IN          Music               1.0             1   \n",
       "1           US  Entertainment              50.0             1   \n",
       "2           US      Education               2.0             2   \n",
       "3           IN  Entertainment               3.0             2   \n",
       "4           US  Entertainment               5.0             3   \n",
       "\n",
       "   channel_type_rank  video_views_for_the_last_30_days  \\\n",
       "0                  1                      2.258000e+09   \n",
       "1                  1                      1.348000e+09   \n",
       "2                  1                      1.975000e+09   \n",
       "3                  2                      1.824000e+09   \n",
       "4                  3                      7.316740e+08   \n",
       "\n",
       "   lowest_monthly_earnings  highest_monthly_earnings  lowest_yearly_earnings  \\\n",
       "0                   564600                   9000000                 6800000   \n",
       "1                   337000                   5400000                 4000000   \n",
       "2                   493800                   7900000                 5900000   \n",
       "3                   455900                   7300000                 5500000   \n",
       "4                   182900                   2900000                 2200000   \n",
       "\n",
       "   highest_yearly_earnings  subscribers_for_last_30_days  \\\n",
       "0                108400000                     2000000.0   \n",
       "1                 64700000                     8000000.0   \n",
       "2                 94800000                     1000000.0   \n",
       "3                 87500000                     1000000.0   \n",
       "4                 35100000                           NaN   \n",
       "\n",
       "   Gross tertiary education enrollment (%)  Population  Unemployment rate  \\\n",
       "0                                     28.1  1366417754               5.36   \n",
       "1                                     88.2   328239523              14.70   \n",
       "2                                     88.2   328239523              14.70   \n",
       "3                                     28.1  1366417754               5.36   \n",
       "4                                     88.2   328239523              14.70   \n",
       "\n",
       "   Urban_population   Latitude  Longitude Created_Date  \n",
       "0         471031528  20.593684  78.962880   2006-03-13  \n",
       "1         270663028  37.090240 -95.712891   2012-02-20  \n",
       "2         270663028  37.090240 -95.712891   2006-09-01  \n",
       "3         471031528  20.593684  78.962880   2006-09-20  \n",
       "4         270663028  37.090240 -95.712891   2015-05-12  "
      ]
     },
     "execution_count": 53,
     "metadata": {},
     "output_type": "execute_result"
    }
   ],
   "source": [
    "df = pd.read_csv(\"Cleaned Dataset.csv\", parse_dates=['Created_Date'])\n",
    "df.head()"
   ]
  },
  {
   "cell_type": "code",
   "execution_count": 54,
   "metadata": {},
   "outputs": [],
   "source": [
    "# Filling 1 missing value in 'Youtuber' and 'Title' upon Internet research\n",
    "df['Youtuber'].fillna('Cognizer', inplace=True)\n",
    "df['Title'].fillna('Cognizer', inplace=True)"
   ]
  },
  {
   "cell_type": "code",
   "execution_count": 55,
   "metadata": {},
   "outputs": [
    {
     "name": "stdout",
     "output_type": "stream",
     "text": [
      "<class 'pandas.core.frame.DataFrame'>\n",
      "RangeIndex: 973 entries, 0 to 972\n",
      "Data columns (total 26 columns):\n",
      " #   Column                                   Non-Null Count  Dtype         \n",
      "---  ------                                   --------------  -----         \n",
      " 0   rank                                     973 non-null    float64       \n",
      " 1   Youtuber                                 973 non-null    object        \n",
      " 2   subscribers                              973 non-null    int64         \n",
      " 3   video views                              973 non-null    int64         \n",
      " 4   category                                 973 non-null    object        \n",
      " 5   Title                                    973 non-null    object        \n",
      " 6   uploads                                  973 non-null    int64         \n",
      " 7   Country                                  973 non-null    object        \n",
      " 8   Abbreviation                             973 non-null    object        \n",
      " 9   channel_type                             973 non-null    object        \n",
      " 10  video_views_rank                         973 non-null    float64       \n",
      " 11  country_rank                             973 non-null    int64         \n",
      " 12  channel_type_rank                        973 non-null    int64         \n",
      " 13  video_views_for_the_last_30_days         973 non-null    float64       \n",
      " 14  lowest_monthly_earnings                  973 non-null    int64         \n",
      " 15  highest_monthly_earnings                 973 non-null    int64         \n",
      " 16  lowest_yearly_earnings                   973 non-null    int64         \n",
      " 17  highest_yearly_earnings                  973 non-null    int64         \n",
      " 18  subscribers_for_last_30_days             648 non-null    float64       \n",
      " 19  Gross tertiary education enrollment (%)  973 non-null    float64       \n",
      " 20  Population                               973 non-null    int64         \n",
      " 21  Unemployment rate                        973 non-null    float64       \n",
      " 22  Urban_population                         973 non-null    int64         \n",
      " 23  Latitude                                 973 non-null    float64       \n",
      " 24  Longitude                                973 non-null    float64       \n",
      " 25  Created_Date                             973 non-null    datetime64[ns]\n",
      "dtypes: datetime64[ns](1), float64(8), int64(11), object(6)\n",
      "memory usage: 197.8+ KB\n"
     ]
    }
   ],
   "source": [
    "df.info()"
   ]
  },
  {
   "cell_type": "markdown",
   "metadata": {},
   "source": [
    "---"
   ]
  },
  {
   "cell_type": "markdown",
   "metadata": {},
   "source": [
    "### 8. What is the overall trend in subscribers gained in the last 30 days across all channels?"
   ]
  },
  {
   "cell_type": "code",
   "execution_count": 56,
   "metadata": {},
   "outputs": [
    {
     "data": {
      "text/plain": [
       "channel_type\n",
       "Animals           2300005.0\n",
       "Autos              500011.0\n",
       "Comedy           14500258.0\n",
       "Education        11900000.0\n",
       "Entertainment    91040660.0\n",
       "Film             10601031.0\n",
       "Games            17606614.0\n",
       "Howto             3800003.0\n",
       "Music            28910422.0\n",
       "News              7030000.0\n",
       "Nonprofit          500000.0\n",
       "People           31104890.0\n",
       "Sports            4900001.0\n",
       "Tech              3200032.0\n",
       "Name: subscribers_for_last_30_days, dtype: float64"
      ]
     },
     "execution_count": 56,
     "metadata": {},
     "output_type": "execute_result"
    }
   ],
   "source": [
    "df.groupby('channel_type')['subscribers_for_last_30_days'].sum()"
   ]
  },
  {
   "cell_type": "code",
   "execution_count": 57,
   "metadata": {},
   "outputs": [
    {
     "data": {
      "image/png": "[encoded data removed]",
      "text/plain": [
       "<Figure size 1200x700 with 1 Axes>"
      ]
     },
     "metadata": {},
     "output_type": "display_data"
    }
   ],
   "source": [
    "df.groupby('channel_type')['subscribers_for_last_30_days'].sum().sort_values().plot(kind='barh', \n",
    "                                                                                    title='Total Subscribers gained in 30 days across all Channels', \n",
    "                                                                                    colormap='PRGn', \n",
    "                                                                                    figsize=(12,7))\n",
    "\n",
    "for i,j in enumerate(df.groupby('channel_type')['subscribers_for_last_30_days'].sum().sort_values(ascending=False)):\n",
    "    plt.text(j, 13-i, f\"{round(j/1000000, 3)}M\", va='center', fontsize=9, color='black')\n",
    "\n",
    "plt.xlabel('Total Subscriber Gain in past 30 days (in millions)')\n",
    "plt.ylabel('Channel Type')\n",
    "plt.show()"
   ]
  },
  {
   "cell_type": "markdown",
   "metadata": {},
   "source": [
    "---"
   ]
  },
  {
   "cell_type": "markdown",
   "metadata": {},
   "source": [
    "### 9. Are there any outliers in terms of yearly earnings from YouTube channels?"
   ]
  },
  {
   "cell_type": "code",
   "execution_count": 58,
   "metadata": {},
   "outputs": [
    {
     "data": {
      "image/png": "[encoded data removed]",
      "text/plain": [
       "<Figure size 900x400 with 2 Axes>"
      ]
     },
     "metadata": {},
     "output_type": "display_data"
    }
   ],
   "source": [
    "fig, ax = plt.subplots(1, 2, figsize=(9,4))\n",
    "\n",
    "sns.boxplot(df, y='lowest_yearly_earnings', ax=ax[0])\n",
    "sns.boxplot(df, y='highest_yearly_earnings', ax=ax[1])\n",
    "\n",
    "ax[0].set_title(\"Boxplot of 'lowest_yearly_earnings'\", fontsize=10)\n",
    "ax[0].set_ylabel('')\n",
    "ax[1].set_title(\"Boxplot of 'highest_yearly_earnings'\", fontsize=10)\n",
    "ax[1].set_ylabel('')\n",
    "\n",
    "plt.tight_layout()\n",
    "plt.show()"
   ]
  },
  {
   "cell_type": "markdown",
   "metadata": {},
   "source": [
    "#### Although there are many outliers, 1 data point stands out from the rest. Looking into that.."
   ]
  },
  {
   "cell_type": "code",
   "execution_count": 59,
   "metadata": {},
   "outputs": [
    {
     "data": {
      "text/html": [
       "<div>\n",
       "<style scoped>\n",
       "    .dataframe tbody tr th:only-of-type {\n",
       "        vertical-align: middle;\n",
       "    }\n",
       "\n",
       "    .dataframe tbody tr th {\n",
       "        vertical-align: top;\n",
       "    }\n",
       "\n",
       "    .dataframe thead th {\n",
       "        text-align: right;\n",
       "    }\n",
       "</style>\n",
       "<table border=\"1\" class=\"dataframe\">\n",
       "  <thead>\n",
       "    <tr style=\"text-align: right;\">\n",
       "      <th></th>\n",
       "      <th>rank</th>\n",
       "      <th>Youtuber</th>\n",
       "      <th>subscribers</th>\n",
       "      <th>video views</th>\n",
       "      <th>category</th>\n",
       "      <th>Title</th>\n",
       "      <th>uploads</th>\n",
       "      <th>Country</th>\n",
       "      <th>Abbreviation</th>\n",
       "      <th>channel_type</th>\n",
       "      <th>video_views_rank</th>\n",
       "      <th>country_rank</th>\n",
       "      <th>channel_type_rank</th>\n",
       "      <th>video_views_for_the_last_30_days</th>\n",
       "      <th>lowest_monthly_earnings</th>\n",
       "      <th>highest_monthly_earnings</th>\n",
       "      <th>lowest_yearly_earnings</th>\n",
       "      <th>highest_yearly_earnings</th>\n",
       "      <th>subscribers_for_last_30_days</th>\n",
       "      <th>Gross tertiary education enrollment (%)</th>\n",
       "      <th>Population</th>\n",
       "      <th>Unemployment rate</th>\n",
       "      <th>Urban_population</th>\n",
       "      <th>Latitude</th>\n",
       "      <th>Longitude</th>\n",
       "      <th>Created_Date</th>\n",
       "    </tr>\n",
       "  </thead>\n",
       "  <tbody>\n",
       "    <tr>\n",
       "      <th>488</th>\n",
       "      <td>493.5</td>\n",
       "      <td>KIMPRO</td>\n",
       "      <td>17700000</td>\n",
       "      <td>19206701832</td>\n",
       "      <td>People &amp; Blogs</td>\n",
       "      <td>KIMPRO</td>\n",
       "      <td>1646</td>\n",
       "      <td>South Korea</td>\n",
       "      <td>KR</td>\n",
       "      <td>People</td>\n",
       "      <td>133.0</td>\n",
       "      <td>12</td>\n",
       "      <td>46</td>\n",
       "      <td>3.404000e+09</td>\n",
       "      <td>850900</td>\n",
       "      <td>13600000</td>\n",
       "      <td>10200000</td>\n",
       "      <td>163400000</td>\n",
       "      <td>3200000.0</td>\n",
       "      <td>94.3</td>\n",
       "      <td>51709098</td>\n",
       "      <td>4.15</td>\n",
       "      <td>42106719</td>\n",
       "      <td>35.907757</td>\n",
       "      <td>127.766922</td>\n",
       "      <td>2017-11-11</td>\n",
       "    </tr>\n",
       "  </tbody>\n",
       "</table>\n",
       "</div>"
      ],
      "text/plain": [
       "      rank Youtuber  subscribers  video views        category    Title  \\\n",
       "488  493.5   KIMPRO     17700000  19206701832  People & Blogs   KIMPRO   \n",
       "\n",
       "     uploads      Country Abbreviation channel_type  video_views_rank  \\\n",
       "488     1646  South Korea           KR       People             133.0   \n",
       "\n",
       "     country_rank  channel_type_rank  video_views_for_the_last_30_days  \\\n",
       "488            12                 46                      3.404000e+09   \n",
       "\n",
       "     lowest_monthly_earnings  highest_monthly_earnings  \\\n",
       "488                   850900                  13600000   \n",
       "\n",
       "     lowest_yearly_earnings  highest_yearly_earnings  \\\n",
       "488                10200000                163400000   \n",
       "\n",
       "     subscribers_for_last_30_days  Gross tertiary education enrollment (%)  \\\n",
       "488                     3200000.0                                     94.3   \n",
       "\n",
       "     Population  Unemployment rate  Urban_population   Latitude   Longitude  \\\n",
       "488    51709098               4.15          42106719  35.907757  127.766922   \n",
       "\n",
       "    Created_Date  \n",
       "488   2017-11-11  "
      ]
     },
     "execution_count": 59,
     "metadata": {},
     "output_type": "execute_result"
    }
   ],
   "source": [
    "df[df['lowest_yearly_earnings'] > 10000000]"
   ]
  },
  {
   "cell_type": "code",
   "execution_count": 60,
   "metadata": {},
   "outputs": [
    {
     "data": {
      "text/html": [
       "<div>\n",
       "<style scoped>\n",
       "    .dataframe tbody tr th:only-of-type {\n",
       "        vertical-align: middle;\n",
       "    }\n",
       "\n",
       "    .dataframe tbody tr th {\n",
       "        vertical-align: top;\n",
       "    }\n",
       "\n",
       "    .dataframe thead th {\n",
       "        text-align: right;\n",
       "    }\n",
       "</style>\n",
       "<table border=\"1\" class=\"dataframe\">\n",
       "  <thead>\n",
       "    <tr style=\"text-align: right;\">\n",
       "      <th></th>\n",
       "      <th>rank</th>\n",
       "      <th>Youtuber</th>\n",
       "      <th>subscribers</th>\n",
       "      <th>video views</th>\n",
       "      <th>category</th>\n",
       "      <th>Title</th>\n",
       "      <th>uploads</th>\n",
       "      <th>Country</th>\n",
       "      <th>Abbreviation</th>\n",
       "      <th>channel_type</th>\n",
       "      <th>video_views_rank</th>\n",
       "      <th>country_rank</th>\n",
       "      <th>channel_type_rank</th>\n",
       "      <th>video_views_for_the_last_30_days</th>\n",
       "      <th>lowest_monthly_earnings</th>\n",
       "      <th>highest_monthly_earnings</th>\n",
       "      <th>lowest_yearly_earnings</th>\n",
       "      <th>highest_yearly_earnings</th>\n",
       "      <th>subscribers_for_last_30_days</th>\n",
       "      <th>Gross tertiary education enrollment (%)</th>\n",
       "      <th>Population</th>\n",
       "      <th>Unemployment rate</th>\n",
       "      <th>Urban_population</th>\n",
       "      <th>Latitude</th>\n",
       "      <th>Longitude</th>\n",
       "      <th>Created_Date</th>\n",
       "    </tr>\n",
       "  </thead>\n",
       "  <tbody>\n",
       "    <tr>\n",
       "      <th>488</th>\n",
       "      <td>493.5</td>\n",
       "      <td>KIMPRO</td>\n",
       "      <td>17700000</td>\n",
       "      <td>19206701832</td>\n",
       "      <td>People &amp; Blogs</td>\n",
       "      <td>KIMPRO</td>\n",
       "      <td>1646</td>\n",
       "      <td>South Korea</td>\n",
       "      <td>KR</td>\n",
       "      <td>People</td>\n",
       "      <td>133.0</td>\n",
       "      <td>12</td>\n",
       "      <td>46</td>\n",
       "      <td>3.404000e+09</td>\n",
       "      <td>850900</td>\n",
       "      <td>13600000</td>\n",
       "      <td>10200000</td>\n",
       "      <td>163400000</td>\n",
       "      <td>3200000.0</td>\n",
       "      <td>94.3</td>\n",
       "      <td>51709098</td>\n",
       "      <td>4.15</td>\n",
       "      <td>42106719</td>\n",
       "      <td>35.907757</td>\n",
       "      <td>127.766922</td>\n",
       "      <td>2017-11-11</td>\n",
       "    </tr>\n",
       "  </tbody>\n",
       "</table>\n",
       "</div>"
      ],
      "text/plain": [
       "      rank Youtuber  subscribers  video views        category    Title  \\\n",
       "488  493.5   KIMPRO     17700000  19206701832  People & Blogs   KIMPRO   \n",
       "\n",
       "     uploads      Country Abbreviation channel_type  video_views_rank  \\\n",
       "488     1646  South Korea           KR       People             133.0   \n",
       "\n",
       "     country_rank  channel_type_rank  video_views_for_the_last_30_days  \\\n",
       "488            12                 46                      3.404000e+09   \n",
       "\n",
       "     lowest_monthly_earnings  highest_monthly_earnings  \\\n",
       "488                   850900                  13600000   \n",
       "\n",
       "     lowest_yearly_earnings  highest_yearly_earnings  \\\n",
       "488                10200000                163400000   \n",
       "\n",
       "     subscribers_for_last_30_days  Gross tertiary education enrollment (%)  \\\n",
       "488                     3200000.0                                     94.3   \n",
       "\n",
       "     Population  Unemployment rate  Urban_population   Latitude   Longitude  \\\n",
       "488    51709098               4.15          42106719  35.907757  127.766922   \n",
       "\n",
       "    Created_Date  \n",
       "488   2017-11-11  "
      ]
     },
     "execution_count": 60,
     "metadata": {},
     "output_type": "execute_result"
    }
   ],
   "source": [
    "df[df['highest_yearly_earnings'] > 160000000]"
   ]
  },
  {
   "cell_type": "markdown",
   "metadata": {},
   "source": [
    "#### I've reviewed this channel. While I'm unsure of the dataset's extraction date, as of now, KIMPRO stands as the third-largest YouTube channel in terms of subscribers. It's yearly earnings surpass those of BlackPink and HYBE, which rank first and second in subscriber count. "
   ]
  },
  {
   "cell_type": "markdown",
   "metadata": {},
   "source": [
    "#### So although it is far away from the rest it's not a random mistake or anomaly which needs to be removed from dataset."
   ]
  },
  {
   "cell_type": "markdown",
   "metadata": {},
   "source": [
    "---"
   ]
  },
  {
   "cell_type": "markdown",
   "metadata": {},
   "source": [
    "### 10. What is the distribution of channel creation dates? Is there any trend over time?"
   ]
  },
  {
   "cell_type": "code",
   "execution_count": 61,
   "metadata": {},
   "outputs": [
    {
     "data": {
      "text/html": [
       "<div>\n",
       "<style scoped>\n",
       "    .dataframe tbody tr th:only-of-type {\n",
       "        vertical-align: middle;\n",
       "    }\n",
       "\n",
       "    .dataframe tbody tr th {\n",
       "        vertical-align: top;\n",
       "    }\n",
       "\n",
       "    .dataframe thead th {\n",
       "        text-align: right;\n",
       "    }\n",
       "</style>\n",
       "<table border=\"1\" class=\"dataframe\">\n",
       "  <thead>\n",
       "    <tr style=\"text-align: right;\">\n",
       "      <th></th>\n",
       "      <th>rank</th>\n",
       "      <th>Youtuber</th>\n",
       "      <th>subscribers</th>\n",
       "      <th>video views</th>\n",
       "      <th>category</th>\n",
       "      <th>Title</th>\n",
       "      <th>uploads</th>\n",
       "      <th>Country</th>\n",
       "      <th>Abbreviation</th>\n",
       "      <th>channel_type</th>\n",
       "      <th>video_views_rank</th>\n",
       "      <th>country_rank</th>\n",
       "      <th>channel_type_rank</th>\n",
       "      <th>video_views_for_the_last_30_days</th>\n",
       "      <th>lowest_monthly_earnings</th>\n",
       "      <th>highest_monthly_earnings</th>\n",
       "      <th>lowest_yearly_earnings</th>\n",
       "      <th>highest_yearly_earnings</th>\n",
       "      <th>subscribers_for_last_30_days</th>\n",
       "      <th>Gross tertiary education enrollment (%)</th>\n",
       "      <th>Population</th>\n",
       "      <th>Unemployment rate</th>\n",
       "      <th>Urban_population</th>\n",
       "      <th>Latitude</th>\n",
       "      <th>Longitude</th>\n",
       "      <th>Created_Date</th>\n",
       "    </tr>\n",
       "  </thead>\n",
       "  <tbody>\n",
       "    <tr>\n",
       "      <th>98</th>\n",
       "      <td>99.0</td>\n",
       "      <td>YouTube</td>\n",
       "      <td>36300000</td>\n",
       "      <td>3010784935</td>\n",
       "      <td>News &amp; Politics</td>\n",
       "      <td>YouTube</td>\n",
       "      <td>744</td>\n",
       "      <td>United States</td>\n",
       "      <td>US</td>\n",
       "      <td>Entertainment</td>\n",
       "      <td>827.0</td>\n",
       "      <td>33</td>\n",
       "      <td>28</td>\n",
       "      <td>21103000.0</td>\n",
       "      <td>5300</td>\n",
       "      <td>84400</td>\n",
       "      <td>63300</td>\n",
       "      <td>1000000</td>\n",
       "      <td>300000.0</td>\n",
       "      <td>88.2</td>\n",
       "      <td>328239523</td>\n",
       "      <td>14.7</td>\n",
       "      <td>270663028</td>\n",
       "      <td>37.09024</td>\n",
       "      <td>-95.712891</td>\n",
       "      <td>1970-01-01</td>\n",
       "    </tr>\n",
       "  </tbody>\n",
       "</table>\n",
       "</div>"
      ],
      "text/plain": [
       "    rank Youtuber  subscribers  video views         category    Title  \\\n",
       "98  99.0  YouTube     36300000   3010784935  News & Politics  YouTube   \n",
       "\n",
       "    uploads        Country Abbreviation   channel_type  video_views_rank  \\\n",
       "98      744  United States           US  Entertainment             827.0   \n",
       "\n",
       "    country_rank  channel_type_rank  video_views_for_the_last_30_days  \\\n",
       "98            33                 28                        21103000.0   \n",
       "\n",
       "    lowest_monthly_earnings  highest_monthly_earnings  lowest_yearly_earnings  \\\n",
       "98                     5300                     84400                   63300   \n",
       "\n",
       "    highest_yearly_earnings  subscribers_for_last_30_days  \\\n",
       "98                  1000000                      300000.0   \n",
       "\n",
       "    Gross tertiary education enrollment (%)  Population  Unemployment rate  \\\n",
       "98                                     88.2   328239523               14.7   \n",
       "\n",
       "    Urban_population  Latitude  Longitude Created_Date  \n",
       "98         270663028  37.09024 -95.712891   1970-01-01  "
      ]
     },
     "execution_count": 61,
     "metadata": {},
     "output_type": "execute_result"
    }
   ],
   "source": [
    "# The official YouTube channel was created in 1970 (Yes it's true)\n",
    "# Excluding only this record and plotting distribution.\n",
    "df[df['Youtuber'] == 'YouTube']"
   ]
  },
  {
   "cell_type": "code",
   "execution_count": 62,
   "metadata": {},
   "outputs": [
    {
     "data": {
      "image/png": "[encoded data removed]",
      "text/plain": [
       "<Figure size 1200x600 with 1 Axes>"
      ]
     },
     "metadata": {},
     "output_type": "display_data"
    }
   ],
   "source": [
    "plt.figure(figsize=(12,6))\n",
    "sns.kdeplot(df.drop(98, axis=0), x='Created_Date', fill=True)\n",
    "plt.title('Distribution of Creation Dates')\n",
    "plt.xlabel('')\n",
    "plt.ylabel('')\n",
    "plt.show()"
   ]
  },
  {
   "cell_type": "markdown",
   "metadata": {},
   "source": [
    "#### Since its inception in 2005, YouTube has witnessed a surge in channel creation. However, the peak of this growth occurred during the period of 2014-2015, characterized by the rapid expansion of social media and the widespread adoption of smartphones. This era marked a significant increase in accessibility to YouTube and its vast array of videos."
   ]
  },
  {
   "cell_type": "markdown",
   "metadata": {},
   "source": [
    "---"
   ]
  },
  {
   "cell_type": "markdown",
   "metadata": {},
   "source": [
    "### 11. Is there a relationship between gross tertiary education enrollment and the number of YouTube channels in a country?"
   ]
  },
  {
   "cell_type": "code",
   "execution_count": 63,
   "metadata": {},
   "outputs": [
    {
     "data": {
      "text/plain": [
       "Gross tertiary education enrollment (%)\n",
       "88.2    338\n",
       "28.1    200\n",
       "51.3     68\n",
       "60.0     46\n",
       "40.2     40\n",
       "Name: count, dtype: int64"
      ]
     },
     "execution_count": 63,
     "metadata": {},
     "output_type": "execute_result"
    }
   ],
   "source": [
    "df['Gross tertiary education enrollment (%)'].value_counts().head()"
   ]
  },
  {
   "cell_type": "markdown",
   "metadata": {},
   "source": [
    "#### I have plotted Scatter Plot between Gross tertiary education enrollment and frequncy of enrollment percentage to see if there's any correlation between the two."
   ]
  },
  {
   "cell_type": "code",
   "execution_count": 64,
   "metadata": {},
   "outputs": [
    {
     "data": {
      "image/png": "[encoded data removed]",
      "text/plain": [
       "<Figure size 900x500 with 1 Axes>"
      ]
     },
     "metadata": {},
     "output_type": "display_data"
    }
   ],
   "source": [
    "plt.figure(figsize=(9, 5))\n",
    "plt.scatter(df['Gross tertiary education enrollment (%)'].value_counts().index, \n",
    "            df['Gross tertiary education enrollment (%)'].value_counts().values)\n",
    "plt.title(\"Scatter Plot b/w Education Enrollment (%) and it's frequncy in dataset\", fontsize=10)\n",
    "plt.xlabel('Gross tertiary education enrollment (%)')\n",
    "plt.ylabel('Frequency')\n",
    "plt.show()"
   ]
  },
  {
   "cell_type": "markdown",
   "metadata": {},
   "source": [
    "#### There is no particular relationship between gross tertiary education enrollment and the number of YouTube channels in a country. The country with most number of youtube channels was United States with 88.2% Tertiary Education Enrollment. It can also be seen in scatter plot above. The second highest is India with 28.1%. We can observe that irrespective of how high or low the education enrollment percentage is the number of youtube channels is not dependent on it at all. It's not like highest Education Enrollment has highest youtube channels (for example Australia has highest Gross tertiary education enrollment of 113.1% but still has low number of youtube channels) and lowest has low. "
   ]
  },
  {
   "cell_type": "markdown",
   "metadata": {},
   "source": [
    "---"
   ]
  },
  {
   "cell_type": "markdown",
   "metadata": {},
   "source": [
    "### 12. How does the unemployment rate vary among the top 10 countries with the highest number of YouTube channels?"
   ]
  },
  {
   "cell_type": "code",
   "execution_count": 65,
   "metadata": {},
   "outputs": [
    {
     "name": "stdout",
     "output_type": "stream",
     "text": [
      "['United States', 'India', 'Brazil', 'United Kingdom', 'Mexico', 'Indonesia', 'Spain', 'South Korea', 'Thailand', 'Canada']\n"
     ]
    }
   ],
   "source": [
    "top10_countries = list(df['Country'].value_counts().head(10).index)\n",
    "print(top10_countries)"
   ]
  },
  {
   "cell_type": "code",
   "execution_count": 66,
   "metadata": {},
   "outputs": [
    {
     "name": "stdout",
     "output_type": "stream",
     "text": [
      "{'United States': 14.7, 'India': 5.36, 'Brazil': 12.08, 'United Kingdom': 3.85, 'Mexico': 3.42, 'Indonesia': 4.69, 'Spain': 13.96, 'South Korea': 4.15, 'Thailand': 0.75, 'Canada': 5.56}\n"
     ]
    }
   ],
   "source": [
    "country_unemp_dict = {}\n",
    "for i in top10_countries:\n",
    "    country_unemp_dict[i] = df[df['Country'] == i].iloc[0]['Unemployment rate']\n",
    "\n",
    "print(country_unemp_dict)"
   ]
  },
  {
   "cell_type": "code",
   "execution_count": 67,
   "metadata": {},
   "outputs": [
    {
     "data": {
      "image/png": "[encoded data removed]",
      "text/plain": [
       "<Figure size 1500x600 with 1 Axes>"
      ]
     },
     "metadata": {},
     "output_type": "display_data"
    }
   ],
   "source": [
    "plt.figure(figsize=(15, 6))\n",
    "plt.bar(x=np.arange(1, 11), height=list(country_unemp_dict.values()))\n",
    "plt.xticks(ticks=np.arange(1, 11), labels=list(country_unemp_dict.keys()))\n",
    "plt.title('Unemployment Rate Distribution of Top 10 Countries with most YouTube Channels')\n",
    "plt.show()"
   ]
  },
  {
   "cell_type": "markdown",
   "metadata": {},
   "source": [
    "#### United States has highest unemployment rate followed by Spain and Brazil. Thailand has least unemployment rate."
   ]
  },
  {
   "cell_type": "markdown",
   "metadata": {},
   "source": [
    "---"
   ]
  },
  {
   "cell_type": "markdown",
   "metadata": {},
   "source": [
    "### 13. What is the average urban population percentage in countries with YouTube channels?"
   ]
  },
  {
   "cell_type": "code",
   "execution_count": 68,
   "metadata": {},
   "outputs": [
    {
     "data": {
      "text/plain": [
       "Country\n",
       "Singapore      100.000000\n",
       "Kuwait         100.000000\n",
       "Argentina       91.991001\n",
       "Netherlands     91.875998\n",
       "Japan           91.725869\n",
       "dtype: float64"
      ]
     },
     "execution_count": 68,
     "metadata": {},
     "output_type": "execute_result"
    }
   ],
   "source": [
    "a = 100*df.groupby('Country')['Urban_population'].mean()/df.groupby('Country')['Population'].mean()\n",
    "a.sort_values(ascending=False).head()"
   ]
  },
  {
   "cell_type": "code",
   "execution_count": 69,
   "metadata": {},
   "outputs": [
    {
     "data": {
      "image/png": "[encoded data removed]",
      "text/plain": [
       "<Figure size 1300x900 with 1 Axes>"
      ]
     },
     "metadata": {},
     "output_type": "display_data"
    }
   ],
   "source": [
    "a.sort_values().plot(kind='barh', title='% Urban Population in Countries with YouTube Channels', \n",
    "                     colormap='PRGn', figsize=(13,9))\n",
    "\n",
    "for i,j in enumerate(a.sort_values(ascending=False)):\n",
    "    plt.text(j, 47-i, f\"{round(j, 2)}%\", va='center', fontsize=9, color='black')\n",
    "\n",
    "plt.xlabel('% Urban Population')\n",
    "plt.ylabel('Countries')\n",
    "plt.show()"
   ]
  },
  {
   "cell_type": "markdown",
   "metadata": {},
   "source": [
    "---"
   ]
  },
  {
   "cell_type": "markdown",
   "metadata": {},
   "source": [
    "### 14. Are there any patterns in the distribution of YouTube channels based on latitude and longitude coordinates?"
   ]
  },
  {
   "cell_type": "code",
   "execution_count": 70,
   "metadata": {},
   "outputs": [
    {
     "data": {
      "image/png": "[encoded data removed]",
      "text/plain": [
       "<Figure size 900x500 with 1 Axes>"
      ]
     },
     "metadata": {},
     "output_type": "display_data"
    }
   ],
   "source": [
    "plt.figure(figsize=(9,5))\n",
    "sns.kdeplot(df, x='Latitude', fill=True)\n",
    "sns.kdeplot(df, x='Longitude', fill=True)\n",
    "plt.title('Distributions of Latitudes and Longitudes')\n",
    "plt.xlabel('')\n",
    "plt.ylabel('')\n",
    "plt.show()"
   ]
  },
  {
   "cell_type": "markdown",
   "metadata": {},
   "source": [
    "#### Trying a simple Choropleth Map using Longitudes and Latitudes given.."
   ]
  },
  {
   "cell_type": "code",
   "execution_count": 71,
   "metadata": {},
   "outputs": [
    {
     "data": {
      "text/html": [
       "<div>\n",
       "<style scoped>\n",
       "    .dataframe tbody tr th:only-of-type {\n",
       "        vertical-align: middle;\n",
       "    }\n",
       "\n",
       "    .dataframe tbody tr th {\n",
       "        vertical-align: top;\n",
       "    }\n",
       "\n",
       "    .dataframe thead th {\n",
       "        text-align: right;\n",
       "    }\n",
       "</style>\n",
       "<table border=\"1\" class=\"dataframe\">\n",
       "  <thead>\n",
       "    <tr style=\"text-align: right;\">\n",
       "      <th></th>\n",
       "      <th>Country</th>\n",
       "      <th>count</th>\n",
       "    </tr>\n",
       "  </thead>\n",
       "  <tbody>\n",
       "    <tr>\n",
       "      <th>0</th>\n",
       "      <td>United States</td>\n",
       "      <td>337</td>\n",
       "    </tr>\n",
       "    <tr>\n",
       "      <th>1</th>\n",
       "      <td>India</td>\n",
       "      <td>200</td>\n",
       "    </tr>\n",
       "    <tr>\n",
       "      <th>2</th>\n",
       "      <td>Brazil</td>\n",
       "      <td>68</td>\n",
       "    </tr>\n",
       "    <tr>\n",
       "      <th>3</th>\n",
       "      <td>United Kingdom</td>\n",
       "      <td>46</td>\n",
       "    </tr>\n",
       "    <tr>\n",
       "      <th>4</th>\n",
       "      <td>Mexico</td>\n",
       "      <td>40</td>\n",
       "    </tr>\n",
       "  </tbody>\n",
       "</table>\n",
       "</div>"
      ],
      "text/plain": [
       "          Country  count\n",
       "0   United States    337\n",
       "1           India    200\n",
       "2          Brazil     68\n",
       "3  United Kingdom     46\n",
       "4          Mexico     40"
      ]
     },
     "execution_count": 71,
     "metadata": {},
     "output_type": "execute_result"
    }
   ],
   "source": [
    "# No. of YouTube channels in each Country\n",
    "df['Country'].value_counts().to_frame().reset_index().head()"
   ]
  },
  {
   "cell_type": "code",
   "execution_count": 72,
   "metadata": {},
   "outputs": [
    {
     "data": {
      "text/html": [
       "<div>\n",
       "<style scoped>\n",
       "    .dataframe tbody tr th:only-of-type {\n",
       "        vertical-align: middle;\n",
       "    }\n",
       "\n",
       "    .dataframe tbody tr th {\n",
       "        vertical-align: top;\n",
       "    }\n",
       "\n",
       "    .dataframe thead th {\n",
       "        text-align: right;\n",
       "    }\n",
       "</style>\n",
       "<table border=\"1\" class=\"dataframe\">\n",
       "  <thead>\n",
       "    <tr style=\"text-align: right;\">\n",
       "      <th></th>\n",
       "      <th>Country</th>\n",
       "      <th>Longitude</th>\n",
       "      <th>Latitude</th>\n",
       "    </tr>\n",
       "  </thead>\n",
       "  <tbody>\n",
       "    <tr>\n",
       "      <th>0</th>\n",
       "      <td>India</td>\n",
       "      <td>78.962880</td>\n",
       "      <td>20.593684</td>\n",
       "    </tr>\n",
       "    <tr>\n",
       "      <th>1</th>\n",
       "      <td>United States</td>\n",
       "      <td>-95.712891</td>\n",
       "      <td>37.090240</td>\n",
       "    </tr>\n",
       "    <tr>\n",
       "      <th>5</th>\n",
       "      <td>Japan</td>\n",
       "      <td>138.252924</td>\n",
       "      <td>36.204824</td>\n",
       "    </tr>\n",
       "    <tr>\n",
       "      <th>6</th>\n",
       "      <td>Russia</td>\n",
       "      <td>105.318756</td>\n",
       "      <td>61.524010</td>\n",
       "    </tr>\n",
       "    <tr>\n",
       "      <th>10</th>\n",
       "      <td>South Korea</td>\n",
       "      <td>127.766922</td>\n",
       "      <td>35.907757</td>\n",
       "    </tr>\n",
       "  </tbody>\n",
       "</table>\n",
       "</div>"
      ],
      "text/plain": [
       "          Country   Longitude   Latitude\n",
       "0           India   78.962880  20.593684\n",
       "1   United States  -95.712891  37.090240\n",
       "5           Japan  138.252924  36.204824\n",
       "6          Russia  105.318756  61.524010\n",
       "10    South Korea  127.766922  35.907757"
      ]
     },
     "execution_count": 72,
     "metadata": {},
     "output_type": "execute_result"
    }
   ],
   "source": [
    "# Geographical position of each country\n",
    "df[['Country', 'Longitude', 'Latitude']].drop_duplicates().head()"
   ]
  },
  {
   "cell_type": "code",
   "execution_count": 73,
   "metadata": {},
   "outputs": [
    {
     "data": {
      "text/html": [
       "<div>\n",
       "<style scoped>\n",
       "    .dataframe tbody tr th:only-of-type {\n",
       "        vertical-align: middle;\n",
       "    }\n",
       "\n",
       "    .dataframe tbody tr th {\n",
       "        vertical-align: top;\n",
       "    }\n",
       "\n",
       "    .dataframe thead th {\n",
       "        text-align: right;\n",
       "    }\n",
       "</style>\n",
       "<table border=\"1\" class=\"dataframe\">\n",
       "  <thead>\n",
       "    <tr style=\"text-align: right;\">\n",
       "      <th></th>\n",
       "      <th>Country</th>\n",
       "      <th>count</th>\n",
       "      <th>Longitude</th>\n",
       "      <th>Latitude</th>\n",
       "    </tr>\n",
       "  </thead>\n",
       "  <tbody>\n",
       "    <tr>\n",
       "      <th>0</th>\n",
       "      <td>United States</td>\n",
       "      <td>337</td>\n",
       "      <td>-95.712891</td>\n",
       "      <td>37.090240</td>\n",
       "    </tr>\n",
       "    <tr>\n",
       "      <th>1</th>\n",
       "      <td>India</td>\n",
       "      <td>200</td>\n",
       "      <td>78.962880</td>\n",
       "      <td>20.593684</td>\n",
       "    </tr>\n",
       "    <tr>\n",
       "      <th>2</th>\n",
       "      <td>Brazil</td>\n",
       "      <td>68</td>\n",
       "      <td>-51.925280</td>\n",
       "      <td>-14.235004</td>\n",
       "    </tr>\n",
       "    <tr>\n",
       "      <th>3</th>\n",
       "      <td>United Kingdom</td>\n",
       "      <td>46</td>\n",
       "      <td>-3.435973</td>\n",
       "      <td>55.378051</td>\n",
       "    </tr>\n",
       "    <tr>\n",
       "      <th>4</th>\n",
       "      <td>Mexico</td>\n",
       "      <td>40</td>\n",
       "      <td>-102.552784</td>\n",
       "      <td>23.634501</td>\n",
       "    </tr>\n",
       "  </tbody>\n",
       "</table>\n",
       "</div>"
      ],
      "text/plain": [
       "          Country  count   Longitude   Latitude\n",
       "0   United States    337  -95.712891  37.090240\n",
       "1           India    200   78.962880  20.593684\n",
       "2          Brazil     68  -51.925280 -14.235004\n",
       "3  United Kingdom     46   -3.435973  55.378051\n",
       "4          Mexico     40 -102.552784  23.634501"
      ]
     },
     "execution_count": 73,
     "metadata": {},
     "output_type": "execute_result"
    }
   ],
   "source": [
    "# Joining the above 2 tables\n",
    "a = pd.merge(left=df['Country'].value_counts().to_frame().reset_index(), \n",
    "             right=df[['Country', 'Longitude', 'Latitude']].drop_duplicates(), \n",
    "             how='inner')\n",
    "a.head()"
   ]
  },
  {
   "cell_type": "code",
   "execution_count": 74,
   "metadata": {},
   "outputs": [
    {
     "data": {
      "application/vnd.plotly.v1+json": {
       "config": {
        "plotlyServerURL": "https://plot.ly"
       },
       "data": [
        {
         "lat": [
          37.09024,
          20.593684,
          -14.235004,
          55.378051,
          23.634501,
          -0.789275,
          40.463667,
          35.907757,
          15.870032,
          56.130366,
          61.52401,
          -38.416097,
          12.879721,
          4.570868,
          -25.274398,
          23.885942,
          51.165691,
          48.379433,
          46.227638,
          23.424076,
          30.375321,
          21.521757,
          38.963745,
          36.204824,
          60.128161,
          -35.675147,
          33.223191,
          14.058324,
          30.585164,
          52.132633,
          1.352083,
          -1.831239,
          41.87194,
          13.794185,
          26.820553,
          -9.189967,
          61.92411,
          31.791702,
          23.684994,
          29.31166,
          35.86166,
          4.210484,
          46.818188,
          56.879635,
          33.93911,
          6.42375,
          13.193887,
          -13.759029
         ],
         "lon": [
          -95.712891,
          78.96288,
          -51.92528,
          -3.435973,
          -102.552784,
          113.921327,
          -3.74922,
          127.766922,
          100.992541,
          -106.346771,
          105.318756,
          -63.616672,
          121.774017,
          -74.297333,
          133.775136,
          45.079162,
          10.451526,
          31.16558,
          2.213749,
          53.847818,
          69.345116,
          -77.781167,
          35.243322,
          138.252924,
          18.643501,
          -71.542969,
          43.679291,
          108.277199,
          36.238414,
          5.291266,
          103.819836,
          -78.183406,
          12.56738,
          -88.89653,
          30.802498,
          -75.015152,
          25.748151,
          -7.09262,
          90.356331,
          47.481766,
          104.195397,
          101.975766,
          8.227512,
          24.603189,
          67.709953,
          -66.58973,
          -59.543198,
          -172.104629
         ],
         "marker": {
          "color": [
           337,
           200,
           68,
           46,
           40,
           32,
           26,
           22,
           18,
           17,
           15,
           14,
           13,
           11,
           9,
           8,
           7,
           7,
           7,
           7,
           7,
           7,
           6,
           5,
           4,
           4,
           3,
           3,
           3,
           3,
           3,
           2,
           2,
           2,
           2,
           1,
           1,
           1,
           1,
           1,
           1,
           1,
           1,
           1,
           1,
           1,
           1,
           1
          ],
          "colorbar": {
           "title": {
            "text": "Number of YouTube Channels"
           }
          },
          "colorscale": [
           [
            0,
            "rgb(165,0,38)"
           ],
           [
            0.1,
            "rgb(215,48,39)"
           ],
           [
            0.2,
            "rgb(244,109,67)"
           ],
           [
            0.3,
            "rgb(253,174,97)"
           ],
           [
            0.4,
            "rgb(254,224,139)"
           ],
           [
            0.5,
            "rgb(255,255,191)"
           ],
           [
            0.6,
            "rgb(217,239,139)"
           ],
           [
            0.7,
            "rgb(166,217,106)"
           ],
           [
            0.8,
            "rgb(102,189,99)"
           ],
           [
            0.9,
            "rgb(26,152,80)"
           ],
           [
            1,
            "rgb(0,104,55)"
           ]
          ],
          "opacity": 0.8,
          "size": 10
         },
         "mode": "markers",
         "text": [
          "United States",
          "India",
          "Brazil",
          "United Kingdom",
          "Mexico",
          "Indonesia",
          "Spain",
          "South Korea",
          "Thailand",
          "Canada",
          "Russia",
          "Argentina",
          "Philippines",
          "Colombia",
          "Australia",
          "Saudi Arabia",
          "Germany",
          "Ukraine",
          "France",
          "United Arab Emirates",
          "Pakistan",
          "Cuba",
          "Turkey",
          "Japan",
          "Sweden",
          "Chile",
          "Iraq",
          "Vietnam",
          "Jordan",
          "Netherlands",
          "Singapore",
          "Ecuador",
          "Italy",
          "El Salvador",
          "Egypt",
          "Peru",
          "Finland",
          "Morocco",
          "Bangladesh",
          "Kuwait",
          "China",
          "Malaysia",
          "Switzerland",
          "Latvia",
          "Afghanistan",
          "Venezuela",
          "Barbados",
          "Samoa"
         ],
         "type": "scattergeo"
        }
       ],
       "layout": {
        "geo": {
         "projection": {
          "type": "equirectangular"
         },
         "scope": "world",
         "showcoastlines": true
        },
        "height": 600,
        "template": {
         "data": {
          "bar": [
           {
            "error_x": {
             "color": "#2a3f5f"
            },
            "error_y": {
             "color": "#2a3f5f"
            },
            "marker": {
             "line": {
              "color": "#E5ECF6",
              "width": 0.5
             },
             "pattern": {
              "fillmode": "overlay",
              "size": 10,
              "solidity": 0.2
             }
            },
            "type": "bar"
           }
          ],
          "barpolar": [
           {
            "marker": {
             "line": {
              "color": "#E5ECF6",
              "width": 0.5
             },
             "pattern": {
              "fillmode": "overlay",
              "size": 10,
              "solidity": 0.2
             }
            },
            "type": "barpolar"
           }
          ],
          "carpet": [
           {
            "aaxis": {
             "endlinecolor": "#2a3f5f",
             "gridcolor": "white",
             "linecolor": "white",
             "minorgridcolor": "white",
             "startlinecolor": "#2a3f5f"
            },
            "baxis": {
             "endlinecolor": "#2a3f5f",
             "gridcolor": "white",
             "linecolor": "white",
             "minorgridcolor": "white",
             "startlinecolor": "#2a3f5f"
            },
            "type": "carpet"
           }
          ],
          "choropleth": [
           {
            "colorbar": {
             "outlinewidth": 0,
             "ticks": ""
            },
            "type": "choropleth"
           }
          ],
          "contour": [
           {
            "colorbar": {
             "outlinewidth": 0,
             "ticks": ""
            },
            "colorscale": [
             [
              0,
              "#0d0887"
             ],
             [
              0.1111111111111111,
              "#46039f"
             ],
             [
              0.2222222222222222,
              "#7201a8"
             ],
             [
              0.3333333333333333,
              "#9c179e"
             ],
             [
              0.4444444444444444,
              "#bd3786"
             ],
             [
              0.5555555555555556,
              "#d8576b"
             ],
             [
              0.6666666666666666,
              "#ed7953"
             ],
             [
              0.7777777777777778,
              "#fb9f3a"
             ],
             [
              0.8888888888888888,
              "#fdca26"
             ],
             [
              1,
              "#f0f921"
             ]
            ],
            "type": "contour"
           }
          ],
          "contourcarpet": [
           {
            "colorbar": {
             "outlinewidth": 0,
             "ticks": ""
            },
            "type": "contourcarpet"
           }
          ],
          "heatmap": [
           {
            "colorbar": {
             "outlinewidth": 0,
             "ticks": ""
            },
            "colorscale": [
             [
              0,
              "#0d0887"
             ],
             [
              0.1111111111111111,
              "#46039f"
             ],
             [
              0.2222222222222222,
              "#7201a8"
             ],
             [
              0.3333333333333333,
              "#9c179e"
             ],
             [
              0.4444444444444444,
              "#bd3786"
             ],
             [
              0.5555555555555556,
              "#d8576b"
             ],
             [
              0.6666666666666666,
              "#ed7953"
             ],
             [
              0.7777777777777778,
              "#fb9f3a"
             ],
             [
              0.8888888888888888,
              "#fdca26"
             ],
             [
              1,
              "#f0f921"
             ]
            ],
            "type": "heatmap"
           }
          ],
          "heatmapgl": [
           {
            "colorbar": {
             "outlinewidth": 0,
             "ticks": ""
            },
            "colorscale": [
             [
              0,
              "#0d0887"
             ],
             [
              0.1111111111111111,
              "#46039f"
             ],
             [
              0.2222222222222222,
              "#7201a8"
             ],
             [
              0.3333333333333333,
              "#9c179e"
             ],
             [
              0.4444444444444444,
              "#bd3786"
             ],
             [
              0.5555555555555556,
              "#d8576b"
             ],
             [
              0.6666666666666666,
              "#ed7953"
             ],
             [
              0.7777777777777778,
              "#fb9f3a"
             ],
             [
              0.8888888888888888,
              "#fdca26"
             ],
             [
              1,
              "#f0f921"
             ]
            ],
            "type": "heatmapgl"
           }
          ],
          "histogram": [
           {
            "marker": {
             "pattern": {
              "fillmode": "overlay",
              "size": 10,
              "solidity": 0.2
             }
            },
            "type": "histogram"
           }
          ],
          "histogram2d": [
           {
            "colorbar": {
             "outlinewidth": 0,
             "ticks": ""
            },
            "colorscale": [
             [
              0,
              "#0d0887"
             ],
             [
              0.1111111111111111,
              "#46039f"
             ],
             [
              0.2222222222222222,
              "#7201a8"
             ],
             [
              0.3333333333333333,
              "#9c179e"
             ],
             [
              0.4444444444444444,
              "#bd3786"
             ],
             [
              0.5555555555555556,
              "#d8576b"
             ],
             [
              0.6666666666666666,
              "#ed7953"
             ],
             [
              0.7777777777777778,
              "#fb9f3a"
             ],
             [
              0.8888888888888888,
              "#fdca26"
             ],
             [
              1,
              "#f0f921"
             ]
            ],
            "type": "histogram2d"
           }
          ],
          "histogram2dcontour": [
           {
            "colorbar": {
             "outlinewidth": 0,
             "ticks": ""
            },
            "colorscale": [
             [
              0,
              "#0d0887"
             ],
             [
              0.1111111111111111,
              "#46039f"
             ],
             [
              0.2222222222222222,
              "#7201a8"
             ],
             [
              0.3333333333333333,
              "#9c179e"
             ],
             [
              0.4444444444444444,
              "#bd3786"
             ],
             [
              0.5555555555555556,
              "#d8576b"
             ],
             [
              0.6666666666666666,
              "#ed7953"
             ],
             [
              0.7777777777777778,
              "#fb9f3a"
             ],
             [
              0.8888888888888888,
              "#fdca26"
             ],
             [
              1,
              "#f0f921"
             ]
            ],
            "type": "histogram2dcontour"
           }
          ],
          "mesh3d": [
           {
            "colorbar": {
             "outlinewidth": 0,
             "ticks": ""
            },
            "type": "mesh3d"
           }
          ],
          "parcoords": [
           {
            "line": {
             "colorbar": {
              "outlinewidth": 0,
              "ticks": ""
             }
            },
            "type": "parcoords"
           }
          ],
          "pie": [
           {
            "automargin": true,
            "type": "pie"
           }
          ],
          "scatter": [
           {
            "fillpattern": {
             "fillmode": "overlay",
             "size": 10,
             "solidity": 0.2
            },
            "type": "scatter"
           }
          ],
          "scatter3d": [
           {
            "line": {
             "colorbar": {
              "outlinewidth": 0,
              "ticks": ""
             }
            },
            "marker": {
             "colorbar": {
              "outlinewidth": 0,
              "ticks": ""
             }
            },
            "type": "scatter3d"
           }
          ],
          "scattercarpet": [
           {
            "marker": {
             "colorbar": {
              "outlinewidth": 0,
              "ticks": ""
             }
            },
            "type": "scattercarpet"
           }
          ],
          "scattergeo": [
           {
            "marker": {
             "colorbar": {
              "outlinewidth": 0,
              "ticks": ""
             }
            },
            "type": "scattergeo"
           }
          ],
          "scattergl": [
           {
            "marker": {
             "colorbar": {
              "outlinewidth": 0,
              "ticks": ""
             }
            },
            "type": "scattergl"
           }
          ],
          "scattermapbox": [
           {
            "marker": {
             "colorbar": {
              "outlinewidth": 0,
              "ticks": ""
             }
            },
            "type": "scattermapbox"
           }
          ],
          "scatterpolar": [
           {
            "marker": {
             "colorbar": {
              "outlinewidth": 0,
              "ticks": ""
             }
            },
            "type": "scatterpolar"
           }
          ],
          "scatterpolargl": [
           {
            "marker": {
             "colorbar": {
              "outlinewidth": 0,
              "ticks": ""
             }
            },
            "type": "scatterpolargl"
           }
          ],
          "scatterternary": [
           {
            "marker": {
             "colorbar": {
              "outlinewidth": 0,
              "ticks": ""
             }
            },
            "type": "scatterternary"
           }
          ],
          "surface": [
           {
            "colorbar": {
             "outlinewidth": 0,
             "ticks": ""
            },
            "colorscale": [
             [
              0,
              "#0d0887"
             ],
             [
              0.1111111111111111,
              "#46039f"
             ],
             [
              0.2222222222222222,
              "#7201a8"
             ],
             [
              0.3333333333333333,
              "#9c179e"
             ],
             [
              0.4444444444444444,
              "#bd3786"
             ],
             [
              0.5555555555555556,
              "#d8576b"
             ],
             [
              0.6666666666666666,
              "#ed7953"
             ],
             [
              0.7777777777777778,
              "#fb9f3a"
             ],
             [
              0.8888888888888888,
              "#fdca26"
             ],
             [
              1,
              "#f0f921"
             ]
            ],
            "type": "surface"
           }
          ],
          "table": [
           {
            "cells": {
             "fill": {
              "color": "#EBF0F8"
             },
             "line": {
              "color": "white"
             }
            },
            "header": {
             "fill": {
              "color": "#C8D4E3"
             },
             "line": {
              "color": "white"
             }
            },
            "type": "table"
           }
          ]
         },
         "layout": {
          "annotationdefaults": {
           "arrowcolor": "#2a3f5f",
           "arrowhead": 0,
           "arrowwidth": 1
          },
          "autotypenumbers": "strict",
          "coloraxis": {
           "colorbar": {
            "outlinewidth": 0,
            "ticks": ""
           }
          },
          "colorscale": {
           "diverging": [
            [
             0,
             "#8e0152"
            ],
            [
             0.1,
             "#c51b7d"
            ],
            [
             0.2,
             "#de77ae"
            ],
            [
             0.3,
             "#f1b6da"
            ],
            [
             0.4,
             "#fde0ef"
            ],
            [
             0.5,
             "#f7f7f7"
            ],
            [
             0.6,
             "#e6f5d0"
            ],
            [
             0.7,
             "#b8e186"
            ],
            [
             0.8,
             "#7fbc41"
            ],
            [
             0.9,
             "#4d9221"
            ],
            [
             1,
             "#276419"
            ]
           ],
           "sequential": [
            [
             0,
             "#0d0887"
            ],
            [
             0.1111111111111111,
             "#46039f"
            ],
            [
             0.2222222222222222,
             "#7201a8"
            ],
            [
             0.3333333333333333,
             "#9c179e"
            ],
            [
             0.4444444444444444,
             "#bd3786"
            ],
            [
             0.5555555555555556,
             "#d8576b"
            ],
            [
             0.6666666666666666,
             "#ed7953"
            ],
            [
             0.7777777777777778,
             "#fb9f3a"
            ],
            [
             0.8888888888888888,
             "#fdca26"
            ],
            [
             1,
             "#f0f921"
            ]
           ],
           "sequentialminus": [
            [
             0,
             "#0d0887"
            ],
            [
             0.1111111111111111,
             "#46039f"
            ],
            [
             0.2222222222222222,
             "#7201a8"
            ],
            [
             0.3333333333333333,
             "#9c179e"
            ],
            [
             0.4444444444444444,
             "#bd3786"
            ],
            [
             0.5555555555555556,
             "#d8576b"
            ],
            [
             0.6666666666666666,
             "#ed7953"
            ],
            [
             0.7777777777777778,
             "#fb9f3a"
            ],
            [
             0.8888888888888888,
             "#fdca26"
            ],
            [
             1,
             "#f0f921"
            ]
           ]
          },
          "colorway": [
           "#636efa",
           "#EF553B",
           "#00cc96",
           "#ab63fa",
           "#FFA15A",
           "#19d3f3",
           "#FF6692",
           "#B6E880",
           "#FF97FF",
           "#FECB52"
          ],
          "font": {
           "color": "#2a3f5f"
          },
          "geo": {
           "bgcolor": "white",
           "lakecolor": "white",
           "landcolor": "#E5ECF6",
           "showlakes": true,
           "showland": true,
           "subunitcolor": "white"
          },
          "hoverlabel": {
           "align": "left"
          },
          "hovermode": "closest",
          "mapbox": {
           "style": "light"
          },
          "paper_bgcolor": "white",
          "plot_bgcolor": "#E5ECF6",
          "polar": {
           "angularaxis": {
            "gridcolor": "white",
            "linecolor": "white",
            "ticks": ""
           },
           "bgcolor": "#E5ECF6",
           "radialaxis": {
            "gridcolor": "white",
            "linecolor": "white",
            "ticks": ""
           }
          },
          "scene": {
           "xaxis": {
            "backgroundcolor": "#E5ECF6",
            "gridcolor": "white",
            "gridwidth": 2,
            "linecolor": "white",
            "showbackground": true,
            "ticks": "",
            "zerolinecolor": "white"
           },
           "yaxis": {
            "backgroundcolor": "#E5ECF6",
            "gridcolor": "white",
            "gridwidth": 2,
            "linecolor": "white",
            "showbackground": true,
            "ticks": "",
            "zerolinecolor": "white"
           },
           "zaxis": {
            "backgroundcolor": "#E5ECF6",
            "gridcolor": "white",
            "gridwidth": 2,
            "linecolor": "white",
            "showbackground": true,
            "ticks": "",
            "zerolinecolor": "white"
           }
          },
          "shapedefaults": {
           "line": {
            "color": "#2a3f5f"
           }
          },
          "ternary": {
           "aaxis": {
            "gridcolor": "white",
            "linecolor": "white",
            "ticks": ""
           },
           "baxis": {
            "gridcolor": "white",
            "linecolor": "white",
            "ticks": ""
           },
           "bgcolor": "#E5ECF6",
           "caxis": {
            "gridcolor": "white",
            "linecolor": "white",
            "ticks": ""
           }
          },
          "title": {
           "x": 0.05
          },
          "xaxis": {
           "automargin": true,
           "gridcolor": "white",
           "linecolor": "white",
           "ticks": "",
           "title": {
            "standoff": 15
           },
           "zerolinecolor": "white",
           "zerolinewidth": 2
          },
          "yaxis": {
           "automargin": true,
           "gridcolor": "white",
           "linecolor": "white",
           "ticks": "",
           "title": {
            "standoff": 15
           },
           "zerolinecolor": "white",
           "zerolinewidth": 2
          }
         }
        },
        "title": {
         "text": "Countries on World Map"
        },
        "width": 1000
       }
      }
     },
     "metadata": {},
     "output_type": "display_data"
    }
   ],
   "source": [
    "import plotly.graph_objects as go\n",
    "\n",
    "# Create a Scattergeo plot\n",
    "fig = go.Figure(go.Scattergeo(\n",
    "    mode = 'markers',\n",
    "    lon = a['Longitude'],\n",
    "    lat = a['Latitude'],\n",
    "    text = a['Country'],\n",
    "    marker=dict(\n",
    "        size=10,\n",
    "        color=a['count'],\n",
    "        colorscale='RdYlGn',\n",
    "        opacity=0.8,\n",
    "        colorbar=dict(title='Number of YouTube Channels')\n",
    "    )\n",
    "))\n",
    "\n",
    "# Update layout\n",
    "fig.update_layout(title = 'Number of YouTube Channels by Country', \n",
    "                  geo=dict(showcoastlines=True, projection_type='equirectangular'))\n",
    "\n",
    "fig.update_layout(title = 'Countries on World Map', \n",
    "                  geo_scope='world', width=1000, height=600)\n",
    "\n",
    "fig.show()"
   ]
  }
 ],
 "metadata": {
  "kernelspec": {
   "display_name": "Python 3",
   "language": "python",
   "name": "python3"
  },
  "language_info": {
   "codemirror_mode": {
    "name": "ipython",
    "version": 3
   },
   "file_extension": ".py",
   "mimetype": "text/x-python",
   "name": "python",
   "nbconvert_exporter": "python",
   "pygments_lexer": "ipython3",
   "version": "3.12.0"
  }
 },
 "nbformat": 4,
 "nbformat_minor": 2
}
